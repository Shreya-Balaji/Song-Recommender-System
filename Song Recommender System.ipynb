{
 "cells": [
  {
   "cell_type": "code",
   "execution_count": 64,
   "id": "1cd485b6",
   "metadata": {},
   "outputs": [],
   "source": [
    "import pandas as pd"
   ]
  },
  {
   "cell_type": "code",
   "execution_count": 65,
   "id": "0932b011",
   "metadata": {},
   "outputs": [],
   "source": [
    "df=pd.read_csv(r\"C:\\Users\\VBALA\\Downloads\\spotify_millsongdata.csv\")"
   ]
  },
  {
   "cell_type": "code",
   "execution_count": 66,
   "id": "eaf0fc9e",
   "metadata": {},
   "outputs": [
    {
     "data": {
      "text/html": [
       "<div>\n",
       "<style scoped>\n",
       "    .dataframe tbody tr th:only-of-type {\n",
       "        vertical-align: middle;\n",
       "    }\n",
       "\n",
       "    .dataframe tbody tr th {\n",
       "        vertical-align: top;\n",
       "    }\n",
       "\n",
       "    .dataframe thead th {\n",
       "        text-align: right;\n",
       "    }\n",
       "</style>\n",
       "<table border=\"1\" class=\"dataframe\">\n",
       "  <thead>\n",
       "    <tr style=\"text-align: right;\">\n",
       "      <th></th>\n",
       "      <th>artist</th>\n",
       "      <th>song</th>\n",
       "      <th>link</th>\n",
       "      <th>text</th>\n",
       "    </tr>\n",
       "  </thead>\n",
       "  <tbody>\n",
       "    <tr>\n",
       "      <th>0</th>\n",
       "      <td>ABBA</td>\n",
       "      <td>Ahe's My Kind Of Girl</td>\n",
       "      <td>/a/abba/ahes+my+kind+of+girl_20598417.html</td>\n",
       "      <td>Look at her face, it's a wonderful face  \\r\\nA...</td>\n",
       "    </tr>\n",
       "    <tr>\n",
       "      <th>1</th>\n",
       "      <td>ABBA</td>\n",
       "      <td>Andante, Andante</td>\n",
       "      <td>/a/abba/andante+andante_20002708.html</td>\n",
       "      <td>Take it easy with me, please  \\r\\nTouch me gen...</td>\n",
       "    </tr>\n",
       "    <tr>\n",
       "      <th>2</th>\n",
       "      <td>ABBA</td>\n",
       "      <td>As Good As New</td>\n",
       "      <td>/a/abba/as+good+as+new_20003033.html</td>\n",
       "      <td>I'll never know why I had to go  \\r\\nWhy I had...</td>\n",
       "    </tr>\n",
       "    <tr>\n",
       "      <th>3</th>\n",
       "      <td>ABBA</td>\n",
       "      <td>Bang</td>\n",
       "      <td>/a/abba/bang_20598415.html</td>\n",
       "      <td>Making somebody happy is a question of give an...</td>\n",
       "    </tr>\n",
       "    <tr>\n",
       "      <th>4</th>\n",
       "      <td>ABBA</td>\n",
       "      <td>Bang-A-Boomerang</td>\n",
       "      <td>/a/abba/bang+a+boomerang_20002668.html</td>\n",
       "      <td>Making somebody happy is a question of give an...</td>\n",
       "    </tr>\n",
       "  </tbody>\n",
       "</table>\n",
       "</div>"
      ],
      "text/plain": [
       "  artist                   song                                        link  \\\n",
       "0   ABBA  Ahe's My Kind Of Girl  /a/abba/ahes+my+kind+of+girl_20598417.html   \n",
       "1   ABBA       Andante, Andante       /a/abba/andante+andante_20002708.html   \n",
       "2   ABBA         As Good As New        /a/abba/as+good+as+new_20003033.html   \n",
       "3   ABBA                   Bang                  /a/abba/bang_20598415.html   \n",
       "4   ABBA       Bang-A-Boomerang      /a/abba/bang+a+boomerang_20002668.html   \n",
       "\n",
       "                                                text  \n",
       "0  Look at her face, it's a wonderful face  \\r\\nA...  \n",
       "1  Take it easy with me, please  \\r\\nTouch me gen...  \n",
       "2  I'll never know why I had to go  \\r\\nWhy I had...  \n",
       "3  Making somebody happy is a question of give an...  \n",
       "4  Making somebody happy is a question of give an...  "
      ]
     },
     "execution_count": 66,
     "metadata": {},
     "output_type": "execute_result"
    }
   ],
   "source": [
    "df.head(5)"
   ]
  },
  {
   "cell_type": "code",
   "execution_count": 67,
   "id": "4c913714",
   "metadata": {},
   "outputs": [
    {
     "data": {
      "text/html": [
       "<div>\n",
       "<style scoped>\n",
       "    .dataframe tbody tr th:only-of-type {\n",
       "        vertical-align: middle;\n",
       "    }\n",
       "\n",
       "    .dataframe tbody tr th {\n",
       "        vertical-align: top;\n",
       "    }\n",
       "\n",
       "    .dataframe thead th {\n",
       "        text-align: right;\n",
       "    }\n",
       "</style>\n",
       "<table border=\"1\" class=\"dataframe\">\n",
       "  <thead>\n",
       "    <tr style=\"text-align: right;\">\n",
       "      <th></th>\n",
       "      <th>artist</th>\n",
       "      <th>song</th>\n",
       "      <th>link</th>\n",
       "      <th>text</th>\n",
       "    </tr>\n",
       "  </thead>\n",
       "  <tbody>\n",
       "    <tr>\n",
       "      <th>57645</th>\n",
       "      <td>Ziggy Marley</td>\n",
       "      <td>Good Old Days</td>\n",
       "      <td>/z/ziggy+marley/good+old+days_10198588.html</td>\n",
       "      <td>Irie days come on play  \\r\\nLet the angels fly...</td>\n",
       "    </tr>\n",
       "    <tr>\n",
       "      <th>57646</th>\n",
       "      <td>Ziggy Marley</td>\n",
       "      <td>Hand To Mouth</td>\n",
       "      <td>/z/ziggy+marley/hand+to+mouth_20531167.html</td>\n",
       "      <td>Power to the workers  \\r\\nMore power  \\r\\nPowe...</td>\n",
       "    </tr>\n",
       "    <tr>\n",
       "      <th>57647</th>\n",
       "      <td>Zwan</td>\n",
       "      <td>Come With Me</td>\n",
       "      <td>/z/zwan/come+with+me_20148981.html</td>\n",
       "      <td>all you need  \\r\\nis something i'll believe  \\...</td>\n",
       "    </tr>\n",
       "    <tr>\n",
       "      <th>57648</th>\n",
       "      <td>Zwan</td>\n",
       "      <td>Desire</td>\n",
       "      <td>/z/zwan/desire_20148986.html</td>\n",
       "      <td>northern star  \\r\\nam i frightened  \\r\\nwhere ...</td>\n",
       "    </tr>\n",
       "    <tr>\n",
       "      <th>57649</th>\n",
       "      <td>Zwan</td>\n",
       "      <td>Heartsong</td>\n",
       "      <td>/z/zwan/heartsong_20148991.html</td>\n",
       "      <td>come in  \\r\\nmake yourself at home  \\r\\ni'm a ...</td>\n",
       "    </tr>\n",
       "  </tbody>\n",
       "</table>\n",
       "</div>"
      ],
      "text/plain": [
       "             artist           song  \\\n",
       "57645  Ziggy Marley  Good Old Days   \n",
       "57646  Ziggy Marley  Hand To Mouth   \n",
       "57647          Zwan   Come With Me   \n",
       "57648          Zwan         Desire   \n",
       "57649          Zwan      Heartsong   \n",
       "\n",
       "                                              link  \\\n",
       "57645  /z/ziggy+marley/good+old+days_10198588.html   \n",
       "57646  /z/ziggy+marley/hand+to+mouth_20531167.html   \n",
       "57647           /z/zwan/come+with+me_20148981.html   \n",
       "57648                 /z/zwan/desire_20148986.html   \n",
       "57649              /z/zwan/heartsong_20148991.html   \n",
       "\n",
       "                                                    text  \n",
       "57645  Irie days come on play  \\r\\nLet the angels fly...  \n",
       "57646  Power to the workers  \\r\\nMore power  \\r\\nPowe...  \n",
       "57647  all you need  \\r\\nis something i'll believe  \\...  \n",
       "57648  northern star  \\r\\nam i frightened  \\r\\nwhere ...  \n",
       "57649  come in  \\r\\nmake yourself at home  \\r\\ni'm a ...  "
      ]
     },
     "execution_count": 67,
     "metadata": {},
     "output_type": "execute_result"
    }
   ],
   "source": [
    "df.tail(5)"
   ]
  },
  {
   "cell_type": "code",
   "execution_count": 68,
   "id": "ee8feb08",
   "metadata": {},
   "outputs": [
    {
     "data": {
      "text/plain": [
       "(57650, 4)"
      ]
     },
     "execution_count": 68,
     "metadata": {},
     "output_type": "execute_result"
    }
   ],
   "source": [
    "df.shape"
   ]
  },
  {
   "cell_type": "code",
   "execution_count": 69,
   "id": "b41f6747",
   "metadata": {},
   "outputs": [
    {
     "data": {
      "text/plain": [
       "artist    0\n",
       "song      0\n",
       "link      0\n",
       "text      0\n",
       "dtype: int64"
      ]
     },
     "execution_count": 69,
     "metadata": {},
     "output_type": "execute_result"
    }
   ],
   "source": [
    "df.isnull().sum()  #check for null values in dataset"
   ]
  },
  {
   "cell_type": "code",
   "execution_count": 74,
   "id": "a963fdf5",
   "metadata": {},
   "outputs": [],
   "source": [
    "df=df.sample(5000).drop('link',axis=1).reset_index(drop=True)"
   ]
  },
  {
   "cell_type": "code",
   "execution_count": 75,
   "id": "beef24b4",
   "metadata": {},
   "outputs": [
    {
     "data": {
      "text/html": [
       "<div>\n",
       "<style scoped>\n",
       "    .dataframe tbody tr th:only-of-type {\n",
       "        vertical-align: middle;\n",
       "    }\n",
       "\n",
       "    .dataframe tbody tr th {\n",
       "        vertical-align: top;\n",
       "    }\n",
       "\n",
       "    .dataframe thead th {\n",
       "        text-align: right;\n",
       "    }\n",
       "</style>\n",
       "<table border=\"1\" class=\"dataframe\">\n",
       "  <thead>\n",
       "    <tr style=\"text-align: right;\">\n",
       "      <th></th>\n",
       "      <th>artist</th>\n",
       "      <th>song</th>\n",
       "      <th>text</th>\n",
       "    </tr>\n",
       "  </thead>\n",
       "  <tbody>\n",
       "    <tr>\n",
       "      <th>0</th>\n",
       "      <td>Cat Stevens</td>\n",
       "      <td>Changes Iv</td>\n",
       "      <td>Don't you feel a change a coming  \\r\\nFrom ano...</td>\n",
       "    </tr>\n",
       "    <tr>\n",
       "      <th>1</th>\n",
       "      <td>Billie Holiday</td>\n",
       "      <td>Everything Happens To Me</td>\n",
       "      <td>Black cats creep across my path  \\r\\nUntil I'm...</td>\n",
       "    </tr>\n",
       "    <tr>\n",
       "      <th>2</th>\n",
       "      <td>Phish</td>\n",
       "      <td>Bittersweet Motel</td>\n",
       "      <td>When the only tool you have is a hammer  \\r\\nE...</td>\n",
       "    </tr>\n",
       "    <tr>\n",
       "      <th>3</th>\n",
       "      <td>Tim McGraw</td>\n",
       "      <td>Telluride</td>\n",
       "      <td>When I was nineteen,  \\r\\nI threw my stuff in ...</td>\n",
       "    </tr>\n",
       "    <tr>\n",
       "      <th>4</th>\n",
       "      <td>Paul Simon</td>\n",
       "      <td>Armistice Day</td>\n",
       "      <td>On Armistice Day  \\r\\nThe Philharmonic will pl...</td>\n",
       "    </tr>\n",
       "    <tr>\n",
       "      <th>5</th>\n",
       "      <td>Jimmy Buffett</td>\n",
       "      <td>High Cumberland Dilemma</td>\n",
       "      <td>It's been a little fever and maybe Bucky Beave...</td>\n",
       "    </tr>\n",
       "    <tr>\n",
       "      <th>6</th>\n",
       "      <td>Tom T. Hall</td>\n",
       "      <td>I Hope It Rains At My Funeral</td>\n",
       "      <td>A man with forty acres plowed and planted  \\r\\...</td>\n",
       "    </tr>\n",
       "    <tr>\n",
       "      <th>7</th>\n",
       "      <td>Patsy Cline</td>\n",
       "      <td>I'm Walking The Dog</td>\n",
       "      <td>I'm a-walkin' the dog and I'm never blue  \\r\\n...</td>\n",
       "    </tr>\n",
       "    <tr>\n",
       "      <th>8</th>\n",
       "      <td>Doors</td>\n",
       "      <td>Get Out Of My Life, Woman</td>\n",
       "      <td>Get out of my life, woman  \\r\\nYou don't love ...</td>\n",
       "    </tr>\n",
       "    <tr>\n",
       "      <th>9</th>\n",
       "      <td>Kiss</td>\n",
       "      <td>Keep Me Comin'</td>\n",
       "      <td>I know what you're like  \\r\\nYou're not sleepi...</td>\n",
       "    </tr>\n",
       "  </tbody>\n",
       "</table>\n",
       "</div>"
      ],
      "text/plain": [
       "           artist                           song  \\\n",
       "0     Cat Stevens                     Changes Iv   \n",
       "1  Billie Holiday       Everything Happens To Me   \n",
       "2           Phish              Bittersweet Motel   \n",
       "3      Tim McGraw                      Telluride   \n",
       "4      Paul Simon                  Armistice Day   \n",
       "5   Jimmy Buffett        High Cumberland Dilemma   \n",
       "6     Tom T. Hall  I Hope It Rains At My Funeral   \n",
       "7     Patsy Cline            I'm Walking The Dog   \n",
       "8           Doors      Get Out Of My Life, Woman   \n",
       "9            Kiss                 Keep Me Comin'   \n",
       "\n",
       "                                                text  \n",
       "0  Don't you feel a change a coming  \\r\\nFrom ano...  \n",
       "1  Black cats creep across my path  \\r\\nUntil I'm...  \n",
       "2  When the only tool you have is a hammer  \\r\\nE...  \n",
       "3  When I was nineteen,  \\r\\nI threw my stuff in ...  \n",
       "4  On Armistice Day  \\r\\nThe Philharmonic will pl...  \n",
       "5  It's been a little fever and maybe Bucky Beave...  \n",
       "6  A man with forty acres plowed and planted  \\r\\...  \n",
       "7  I'm a-walkin' the dog and I'm never blue  \\r\\n...  \n",
       "8  Get out of my life, woman  \\r\\nYou don't love ...  \n",
       "9  I know what you're like  \\r\\nYou're not sleepi...  "
      ]
     },
     "execution_count": 75,
     "metadata": {},
     "output_type": "execute_result"
    }
   ],
   "source": [
    "df.head(10)\n"
   ]
  },
  {
   "cell_type": "code",
   "execution_count": 76,
   "id": "7a143b89",
   "metadata": {},
   "outputs": [
    {
     "data": {
      "text/plain": [
       "\"Don't you feel a change a coming  \\r\\nFrom another side of time  \\r\\nBreaking down the walls of silence  \\r\\nLifting shadows from your mind  \\r\\nPlacing back the missing mirrors  \\r\\nThat before you couldn't find  \\r\\nFilling mysteries of emptiness  \\r\\nThat yesterday left behind  \\r\\n  \\r\\nAnd we all know it's better  \\r\\nYesterday has past  \\r\\nNow let's all start the living  \\r\\nFor the one that's going to last  \\r\\nYes we all know it's better  \\r\\nYesterday has past  \\r\\nNow let's all start living  \\r\\nFor the one that's going to last  \\r\\n  \\r\\nDon't you feel the day is coming  \\r\\nThat will stay and remain  \\r\\nWhen your children see the answers  \\r\\nThat you saw the same  \\r\\nWhen the clouds have all gone  \\r\\nThere will be no more rain  \\r\\nAnd the beauty of all things  \\r\\nIs uncovered again  \\r\\n  \\r\\nAnd we all know it's better  \\r\\nYesterday has past  \\r\\nNow let's all start the living  \\r\\nFor the one that's going to last  \\r\\nYes we all know it's better  \\r\\nYesterday has past  \\r\\nNow let's all start living  \\r\\nFor the one that's going to last  \\r\\n  \\r\\nDon't you feel the day is coming  \\r\\nAnd it won't be too soon  \\r\\nWhen the people of the world  \\r\\nCan all live in one room  \\r\\nWhen we shake off the ancient  \\r\\nShake off the ancient chains of our tomb  \\r\\nWe will all be born again  \\r\\nOf the eternal womb  \\r\\n  \\r\\nAnd we all know it's better  \\r\\nYesterday has past  \\r\\nNow let's all start the living  \\r\\nFor the one that's going to last  \\r\\nYes we all know it's better  \\r\\nYesterday has past  \\r\\nNow let's all start living  \\r\\nFor the one that's going to last  \\r\\n  \\r\\nLet's all start living  \\r\\nLet's all start living, living, living, living  \\r\\nFor the one that's going last  \\r\\n(The one that's going to last)  \\r\\n(The one that's going to last)\\r\\n\\r\\n\""
      ]
     },
     "execution_count": 76,
     "metadata": {},
     "output_type": "execute_result"
    }
   ],
   "source": [
    "df['text'][0]"
   ]
  },
  {
   "cell_type": "code",
   "execution_count": 77,
   "id": "133ac40a",
   "metadata": {},
   "outputs": [
    {
     "data": {
      "text/plain": [
       "(5000, 3)"
      ]
     },
     "execution_count": 77,
     "metadata": {},
     "output_type": "execute_result"
    }
   ],
   "source": [
    "df.shape"
   ]
  },
  {
   "cell_type": "code",
   "execution_count": 78,
   "id": "7c22b9a5",
   "metadata": {},
   "outputs": [],
   "source": [
    "#TEXT CLEANING OR PRE-PROCESSING\n",
    "df['text']=df['text'].str.lower().replace(r'^a-zA-Z0-9','').replace(r'\\r','',regex=True).replace(r'\\n','',regex=True)"
   ]
  },
  {
   "cell_type": "code",
   "execution_count": 81,
   "id": "5705e82b",
   "metadata": {},
   "outputs": [
    {
     "data": {
      "text/html": [
       "<div>\n",
       "<style scoped>\n",
       "    .dataframe tbody tr th:only-of-type {\n",
       "        vertical-align: middle;\n",
       "    }\n",
       "\n",
       "    .dataframe tbody tr th {\n",
       "        vertical-align: top;\n",
       "    }\n",
       "\n",
       "    .dataframe thead th {\n",
       "        text-align: right;\n",
       "    }\n",
       "</style>\n",
       "<table border=\"1\" class=\"dataframe\">\n",
       "  <thead>\n",
       "    <tr style=\"text-align: right;\">\n",
       "      <th></th>\n",
       "      <th>artist</th>\n",
       "      <th>song</th>\n",
       "      <th>text</th>\n",
       "    </tr>\n",
       "  </thead>\n",
       "  <tbody>\n",
       "    <tr>\n",
       "      <th>4995</th>\n",
       "      <td>R. Kelly</td>\n",
       "      <td>Only The Loot Can Make Me Happy</td>\n",
       "      <td>rockland  in my life  track masters  you're al...</td>\n",
       "    </tr>\n",
       "    <tr>\n",
       "      <th>4996</th>\n",
       "      <td>Owl City</td>\n",
       "      <td>Wolf Bite</td>\n",
       "      <td>[verse 1:]  it's another bad dream  poison in ...</td>\n",
       "    </tr>\n",
       "    <tr>\n",
       "      <th>4997</th>\n",
       "      <td>Chaka Khan</td>\n",
       "      <td>Qaundary</td>\n",
       "      <td>i've seen you happy  i've seen you low  i've w...</td>\n",
       "    </tr>\n",
       "    <tr>\n",
       "      <th>4998</th>\n",
       "      <td>Donna Summer</td>\n",
       "      <td>Lucky</td>\n",
       "      <td>scared and lonely  going out for the night  sh...</td>\n",
       "    </tr>\n",
       "    <tr>\n",
       "      <th>4999</th>\n",
       "      <td>Zebrahead</td>\n",
       "      <td>Let Me Go</td>\n",
       "      <td>well some wear their feelings right on their s...</td>\n",
       "    </tr>\n",
       "  </tbody>\n",
       "</table>\n",
       "</div>"
      ],
      "text/plain": [
       "            artist                             song  \\\n",
       "4995      R. Kelly  Only The Loot Can Make Me Happy   \n",
       "4996      Owl City                        Wolf Bite   \n",
       "4997    Chaka Khan                         Qaundary   \n",
       "4998  Donna Summer                            Lucky   \n",
       "4999     Zebrahead                        Let Me Go   \n",
       "\n",
       "                                                   text  \n",
       "4995  rockland  in my life  track masters  you're al...  \n",
       "4996  [verse 1:]  it's another bad dream  poison in ...  \n",
       "4997  i've seen you happy  i've seen you low  i've w...  \n",
       "4998  scared and lonely  going out for the night  sh...  \n",
       "4999  well some wear their feelings right on their s...  "
      ]
     },
     "execution_count": 81,
     "metadata": {},
     "output_type": "execute_result"
    }
   ],
   "source": [
    "df.tail(5)"
   ]
  },
  {
   "cell_type": "code",
   "execution_count": 82,
   "id": "8e593eab",
   "metadata": {},
   "outputs": [],
   "source": [
    "import nltk\n",
    "from nltk.stem.porter import PorterStemmer"
   ]
  },
  {
   "cell_type": "code",
   "execution_count": 83,
   "id": "37cd36d7",
   "metadata": {},
   "outputs": [],
   "source": [
    "stemmer=PorterStemmer()"
   ]
  },
  {
   "cell_type": "code",
   "execution_count": 84,
   "id": "49e81760",
   "metadata": {},
   "outputs": [],
   "source": [
    "def token(txt):\n",
    "    token=nltk.word_tokenize(txt)\n",
    "    a=[stemmer.stem(w) for w in token]\n",
    "    return \" \".join(a)"
   ]
  },
  {
   "cell_type": "code",
   "execution_count": 85,
   "id": "04b7c8e4",
   "metadata": {},
   "outputs": [
    {
     "data": {
      "text/plain": [
       "'you are beauti , beauti , beauti'"
      ]
     },
     "execution_count": 85,
     "metadata": {},
     "output_type": "execute_result"
    }
   ],
   "source": [
    "#Check how the function works with this example\n",
    "token(\"you are beautiful,beauty,beauti\")"
   ]
  },
  {
   "cell_type": "code",
   "execution_count": 102,
   "id": "1cce88f0",
   "metadata": {},
   "outputs": [
    {
     "data": {
      "text/plain": [
       "0       do n't you feel a chang a come from anoth side...\n",
       "1       black cat creep across my path until i 'm almo...\n",
       "2       when the onli tool you have is a hammer everyt...\n",
       "3       when i wa nineteen , i threw my stuff in the c...\n",
       "4       on armist day the philharmon will play but the...\n",
       "                              ...                        \n",
       "4995    rockland in my life track master you 're all i...\n",
       "4996    [ ver 1 : ] it 's anoth bad dream poison in my...\n",
       "4997    i 've seen you happi i 've seen you low i 've ...\n",
       "4998    scare and lone go out for the night shakin ' a...\n",
       "4999    well some wear their feel right on their sleev...\n",
       "Name: text, Length: 5000, dtype: object"
      ]
     },
     "execution_count": 102,
     "metadata": {},
     "output_type": "execute_result"
    }
   ],
   "source": [
    "#convert data into tokens\n",
    "df['text'].apply(lambda x: token(x))"
   ]
  },
  {
   "cell_type": "code",
   "execution_count": 103,
   "id": "7740d85f",
   "metadata": {},
   "outputs": [],
   "source": [
    "from sklearn.feature_extraction.text import TfidfVectorizer\n",
    "from sklearn.metrics.pairwise import cosine_similarity"
   ]
  },
  {
   "cell_type": "code",
   "execution_count": 104,
   "id": "d05021b6",
   "metadata": {},
   "outputs": [],
   "source": [
    "tfid=TfidfVectorizer(analyzer='word',stop_words='english')"
   ]
  },
  {
   "cell_type": "code",
   "execution_count": 105,
   "id": "064bec02",
   "metadata": {},
   "outputs": [],
   "source": [
    "matrix=tfid.fit_transform(df['text'])"
   ]
  },
  {
   "cell_type": "code",
   "execution_count": 106,
   "id": "4e2eedd4",
   "metadata": {},
   "outputs": [],
   "source": [
    "similar=cosine_similarity(matrix) #we basically calculate theta between two vectors"
   ]
  },
  {
   "cell_type": "code",
   "execution_count": 107,
   "id": "f9e42035",
   "metadata": {},
   "outputs": [
    {
     "data": {
      "text/plain": [
       "array([1.        , 0.02583844, 0.04832613, ..., 0.10697548, 0.01258183,\n",
       "       0.11504099])"
      ]
     },
     "execution_count": 107,
     "metadata": {},
     "output_type": "execute_result"
    }
   ],
   "source": [
    "similar[0]"
   ]
  },
  {
   "cell_type": "code",
   "execution_count": 112,
   "id": "09d8857e",
   "metadata": {},
   "outputs": [],
   "source": [
    "#Recommender Function\n",
    "def recommender(song_name):\n",
    "    idx=df[df['song']==song_name].index[0]\n",
    "    dist=sorted(list(enumerate(similar[idx])),reverse=True,key=lambda x:x[1])\n",
    "    song=[]\n",
    "    for sid in dist[1:22]:\n",
    "        song.append(df.iloc[sid[0]].song)\n",
    "    return song"
   ]
  },
  {
   "cell_type": "code",
   "execution_count": 113,
   "id": "2a6814f7",
   "metadata": {},
   "outputs": [
    {
     "data": {
      "text/plain": [
       "['Again',\n",
       " 'Nine Tonight',\n",
       " 'Find Your Way Back',\n",
       " 'Give Me All Your Love',\n",
       " 'Tonight (From West Side Story)',\n",
       " 'Man Of Our Times',\n",
       " 'Tonight',\n",
       " 'Stay Here Tonight',\n",
       " 'I Need You Tonight',\n",
       " 'Be There',\n",
       " 'She Goes All The Way',\n",
       " 'Dj Got Us Falling In Love',\n",
       " 'Me And The Moon',\n",
       " 'After Tonight',\n",
       " 'Say Goodbye',\n",
       " 'Come Back',\n",
       " 'Hold Me',\n",
       " 'The Way It Is',\n",
       " \"There's No Way .\",\n",
       " 'Fall Out',\n",
       " 'Hold On']"
      ]
     },
     "execution_count": 113,
     "metadata": {},
     "output_type": "execute_result"
    }
   ],
   "source": [
    "recommender(\"Wolf Bite\")"
   ]
  }
 ],
 "metadata": {
  "kernelspec": {
   "display_name": "Python 3 (ipykernel)",
   "language": "python",
   "name": "python3"
  },
  "language_info": {
   "codemirror_mode": {
    "name": "ipython",
    "version": 3
   },
   "file_extension": ".py",
   "mimetype": "text/x-python",
   "name": "python",
   "nbconvert_exporter": "python",
   "pygments_lexer": "ipython3",
   "version": "3.10.9"
  }
 },
 "nbformat": 4,
 "nbformat_minor": 5
}
